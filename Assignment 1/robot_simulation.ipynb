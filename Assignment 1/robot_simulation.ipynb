{
  "nbformat": 4,
  "nbformat_minor": 0,
  "metadata": {
    "colab": {
      "provenance": []
    },
    "kernelspec": {
      "name": "python3",
      "display_name": "Python 3"
    },
    "language_info": {
      "name": "python"
    }
  },
  "cells": [
    {
      "cell_type": "markdown",
      "source": [
        "# **Assignment -1 : Enhanced Dynamic Robot Movement Simulation**"
      ],
      "metadata": {
        "id": "YGsEHqPbNxSs"
      }
    },
    {
      "cell_type": "markdown",
      "source": [
        "**Submitted by**\n",
        "\n",
        "      Md. Miskat Hossain\n",
        "      2021-2-60-109\n",
        "      Department of Computer Science & Engineering\n",
        "      East West University\n",
        "**Submitted to**\n",
        "\n",
        "      Dr. Mohammad Rifat Ahmmad Rashid\n",
        "      Assistant Professor\n",
        "      Department of Computer Science & Engineering\n",
        "      East West University"
      ],
      "metadata": {
        "id": "yNqK6bkzN6Ar"
      }
    },
    {
      "cell_type": "code",
      "source": [
        "import numpy as np\n",
        "import matplotlib.pyplot as plt\n",
        "from collections import deque\n",
        "import heapq\n",
        "import random\n",
        "\n",
        "# Node Class represents a state in the search tree.\n",
        "class Node:\n",
        "    def __init__(self, state, parent=None, action=None, path_cost=0):\n",
        "        self.state = state  # The current position of the agent in the grid.\n",
        "        self.parent = parent  # The node in the search tree that generated this node.\n",
        "        self.action = action  # The action taken to get to this state.\n",
        "        self.path_cost = path_cost  # Cost from the start node to this node.\n",
        "\n",
        "    # Comparison operator for priority queue.\n",
        "    def __lt__(self, other):\n",
        "        return self.path_cost < other.path_cost\n",
        "\n",
        "class PriorityQueue:\n",
        "    def __init__(self):\n",
        "        self.elements = []\n",
        "\n",
        "    def empty(self):\n",
        "        return len(self.elements) == 0\n",
        "\n",
        "    def put(self, item, priority):\n",
        "        heapq.heappush(self.elements, (priority, item))\n",
        "\n",
        "    def get(self):\n",
        "        return heapq.heappop(self.elements)[1]\n",
        "\n",
        "def heuristic(a, b):\n",
        "    (x1, y1) = a\n",
        "    (x2, y2) = b\n",
        "    return abs(x1 - x2) + abs(y1 - y2)"
      ],
      "metadata": {
        "id": "taWSUc4KOiNz"
      },
      "execution_count": null,
      "outputs": []
    },
    {
      "cell_type": "markdown",
      "source": [
        "#Environment Class"
      ],
      "metadata": {
        "id": "LV4Ti4MaPaAE"
      }
    },
    {
      "cell_type": "code",
      "source": [
        "# Environment Class represents the grid and handles state transitions.\n",
        "class Environment:\n",
        "    def __init__(self):\n",
        "        probabilities = [0.9, 0.1]\n",
        "        self.grid = np.random.choice([0, 1], size=(10, 10), p=probabilities)\n",
        "        rn1 = random.randint(0,9)\n",
        "        rn2 = random.randint(0,9)\n",
        "        rn3 = random.randint(0,9)\n",
        "        rn4 = random.randint(0,9)\n",
        "        self.grid[rn1][rn2]=0\n",
        "        self.grid[rn3][rn4]=0\n",
        "        print(self.grid)  # The grid layout where 1 represents an obstacle and 0 is free space.\n",
        "        self.initial = (rn1, rn2)  # Starting position of the agent.\n",
        "        self.goal = (rn3, rn4)  # Goal position the agent aims to reach.\n",
        "    # Returns the possible actions from a given state.\n",
        "    def actions(self, state):\n",
        "        possible_actions = ['UP', 'DOWN', 'LEFT', 'RIGHT']\n",
        "        x, y = state\n",
        "        # Remove impossible actions based on grid boundaries and obstacles.\n",
        "        if x == 0 or self.grid[x - 1][y] == 1:\n",
        "            possible_actions.remove('UP')\n",
        "        if x == len(self.grid) - 1 or self.grid[x + 1][y] == 1:\n",
        "            possible_actions.remove('DOWN')\n",
        "        if y == 0 or self.grid[x][y - 1] == 1:\n",
        "            possible_actions.remove('LEFT')\n",
        "        if y == len(self.grid[0]) - 1 or self.grid[x][y + 1] == 1:\n",
        "            possible_actions.remove('RIGHT')\n",
        "        return possible_actions\n",
        "    # Returns the state resulting from taking a given action at a given state.\n",
        "    def result(self, state, action):\n",
        "        x, y = state\n",
        "        if action == 'UP':\n",
        "            return (x - 1, y)\n",
        "        if action == 'DOWN':\n",
        "            return (x + 1, y)\n",
        "        if action == 'LEFT':\n",
        "            return (x, y - 1)\n",
        "        if action == 'RIGHT':\n",
        "            return (x, y + 1)\n",
        "    # Checks if the goal has been reached.\n",
        "    def is_goal(self, state):\n",
        "        return state == self.goal\n",
        "    def getGrid(self):\n",
        "      return self.grid"
      ],
      "metadata": {
        "id": "1lWf9G6YPZwT"
      },
      "execution_count": null,
      "outputs": []
    },
    {
      "cell_type": "markdown",
      "source": [
        "#Agent Class"
      ],
      "metadata": {
        "id": "52sC9MQ2PsJ9"
      }
    },
    {
      "cell_type": "code",
      "source": [
        "charge = []\n",
        "class Agent:\n",
        "    def __init__(self, env):\n",
        "        self.env = env\n",
        "        self.energy=100\n",
        "        self.c=0\n",
        "        self.d=0\n",
        "        self.e=0\n",
        "    # Performs A* Search Algorithm search to find a path from the initial state to the goal.\n",
        "    def a_star_search(self):\n",
        "        # The start node is created with a path cost of 0.\n",
        "        self.energy=100\n",
        "        self.c=0\n",
        "        start_node = Node(self.env.initial, path_cost=0)\n",
        "        frontier = PriorityQueue()\n",
        "        frontier.put(start_node, 0)  # Priority is f-cost, initially the heuristic cost from start to goal\n",
        "        came_from = {self.env.initial: None}  # Tracks the best path to a node\n",
        "        cost_so_far = {self.env.initial: 0}  # Tracks the g-cost (cost so far to reach a node)\n",
        "\n",
        "        while not frontier.empty():\n",
        "            current_node = frontier.get()\n",
        "\n",
        "            if self.env.is_goal(current_node.state):\n",
        "                ab= self.reconstruct_path(came_from, current_node.state)\n",
        "                self.d=self.c\n",
        "                return ab\n",
        "\n",
        "            for action in self.env.actions(current_node.state):\n",
        "                new_state = self.env.result(current_node.state, action)\n",
        "                new_cost = cost_so_far[current_node.state] + 1  # Assuming uniform cost for simplicity\n",
        "                if new_state not in cost_so_far or new_cost < cost_so_far[new_state]:\n",
        "                    cost_so_far[new_state] = new_cost\n",
        "                    priority = new_cost + heuristic(new_state, self.env.goal)  # f-cost = g-cost + h-cost\n",
        "                    frontier.put(Node(new_state, current_node, action, new_cost), priority)\n",
        "                    came_from[new_state] = current_node.state\n",
        "\n",
        "        return []\n",
        "    def uniform_cost_search(self):\n",
        "        self.energy=100\n",
        "        self.c=0\n",
        "        frontier = PriorityQueue()  # Priority queue for UCS.\n",
        "        frontier.put(Node(self.env.initial, path_cost=0), 0)\n",
        "        came_from = {self.env.initial: None}\n",
        "        cost_so_far = {self.env.initial: 0}\n",
        "\n",
        "        while not frontier.empty():\n",
        "            current_node = frontier.get()\n",
        "\n",
        "            if self.env.is_goal(current_node.state):\n",
        "                ab= self.reconstruct_path(came_from, current_node.state)\n",
        "                self.e=self.c\n",
        "                return ab\n",
        "\n",
        "            for action in self.env.actions(current_node.state):\n",
        "                new_state = self.env.result(current_node.state, action)\n",
        "                new_cost = cost_so_far[current_node.state] + 1  # Assuming uniform cost for simplicity; adjust if varying costs.\n",
        "                if new_state not in cost_so_far or new_cost < cost_so_far[new_state]:\n",
        "                    cost_so_far[new_state] = new_cost\n",
        "                    priority = new_cost\n",
        "                    frontier.put(Node(new_state, current_node, action, new_cost), priority)\n",
        "                    came_from[new_state] = current_node.state\n",
        "\n",
        "        return []\n",
        "    # Reconstructs the path from start to goal by following the came_from links.\n",
        "    def reconstruct_path(self, came_from, current):\n",
        "        charge.clear()\n",
        "        path = []\n",
        "        charge.append(100)\n",
        "        while current in came_from:\n",
        "            path.append(current)\n",
        "            charge.append(self.energy)\n",
        "            current = came_from[current]\n",
        "            self.energy=self.energy-10\n",
        "            if self.energy <= 0:\n",
        "                a = int(input(\"To recharge press 1: \"))\n",
        "                if a == 1:\n",
        "                    self.recharge()\n",
        "                    self.c=self.c+1\n",
        "        path.append(self.env.initial)  # Start is not included in the came_from map.\n",
        "        path.reverse()  # Reverse to get the path from start to goal.\n",
        "        return path\n",
        "    def recharge(self):\n",
        "        print(\"Recharged Successfully\")\n",
        "        self.energy=100\n",
        "    def compare(self):\n",
        "      if self.d==self.e:\n",
        "        print(\"no difference\")\n",
        "      elif self.d>self.e:\n",
        "        print(\"A* algorithm Better\")\n",
        "      else:\n",
        "        print(\"UCS algorithm Better\")"
      ],
      "metadata": {
        "id": "tIgEYEdpPvWF"
      },
      "execution_count": null,
      "outputs": []
    },
    {
      "cell_type": "markdown",
      "source": [
        "#Visualization Function"
      ],
      "metadata": {
        "id": "EmoKqag_QCk7"
      }
    },
    {
      "cell_type": "code",
      "source": [
        "# Visualization Function plots the grid and the found path.\n",
        "def visualize_grid_and_path(grid, path):\n",
        "    charge.reverse()\n",
        "    grid_array = np.array(grid)  # Convert grid to numpy array for easy plotting.\n",
        "    fig, ax = plt.subplots()\n",
        "    ax.imshow(grid_array, cmap='Greys', alpha=0.3)  # Grid background.\n",
        "    start = path[0]\n",
        "    goal = path[-1]\n",
        "    ax.plot(start[1], start[0], 'bs', markersize=10)  # Start position in blue.\n",
        "    ax.plot(goal[1], goal[0], 'gs', markersize=10)  # Goal position in green.\n",
        "    xs, ys = zip(*path)  # Extract X and Y coordinates of the path.\n",
        "    ax.plot(ys, xs, 'r-', linewidth=2)  # Plot the path in red.\n",
        "    for i, (x, y) in enumerate(zip(xs, ys)):\n",
        "      ax.text(y, x, charge.pop(), color='blue')\n",
        "    ax.set_xticks(np.arange(-.5, len(grid[0]), 1), minor=True)\n",
        "    ax.set_yticks(np.arange(-.5, len(grid), 1), minor=True)\n",
        "    ax.grid(which=\"minor\", color=\"b\", linestyle='-', linewidth=1)\n",
        "    ax.tick_params(which=\"minor\", size=0)\n",
        "    ax.tick_params(which=\"major\", bottom=False, left=False, labelbottom=False, labelleft=False)\n",
        "    plt.show()\n",
        "\n",
        "    # Define the grid, start position, and goal position"
      ],
      "metadata": {
        "id": "On2r8Mr4QHmD"
      },
      "execution_count": null,
      "outputs": []
    },
    {
      "cell_type": "markdown",
      "source": [
        "#Input & Output Subsection"
      ],
      "metadata": {
        "id": "W8JSJUjdQJg8"
      }
    },
    {
      "cell_type": "code",
      "source": [
        "environment = Environment()\n",
        "agent = Agent(environment)\n",
        "print(\"For A* Search Algorithm:\\n\")\n",
        "solution_path = agent.a_star_search()\n",
        "print(\"Solution Path:\", solution_path)\n",
        "visualize_grid_and_path(environment.getGrid(), solution_path)\n",
        "print(\"For Uniform Cost Search Algorithm:\\n\")\n",
        "solution_path = agent.uniform_cost_search()\n",
        "print(\"Solution Path:\", solution_path)\n",
        "visualize_grid_and_path(environment.getGrid(), solution_path)\n",
        "agent.compare()"
      ],
      "metadata": {
        "colab": {
          "base_uri": "https://localhost:8080/",
          "height": 1000
        },
        "id": "FdcNKK72QQyk",
        "outputId": "7269d878-e4b1-42d6-e25d-7c2069ad7afd"
      },
      "execution_count": 200,
      "outputs": [
        {
          "output_type": "stream",
          "name": "stdout",
          "text": [
            "[[0 0 0 0 0 1 0 0 0 0]\n",
            " [0 0 1 0 0 0 0 0 0 0]\n",
            " [0 0 0 0 0 0 1 1 0 0]\n",
            " [0 0 0 0 0 0 0 0 0 0]\n",
            " [1 0 0 0 0 0 0 0 0 0]\n",
            " [1 0 0 0 1 0 0 0 0 0]\n",
            " [0 0 0 0 1 0 0 1 0 0]\n",
            " [1 0 0 0 0 0 0 0 0 1]\n",
            " [0 0 0 0 0 1 0 0 0 0]\n",
            " [0 0 0 0 0 0 0 0 0 1]]\n",
            "For A* Search Algorithm:\n",
            "\n",
            "To recharge press 1: 1\n",
            "Recharged Successfully\n",
            "Solution Path: [(1, 4), (1, 4), (1, 5), (1, 6), (1, 7), (1, 8), (2, 8), (3, 8), (4, 8), (5, 8), (6, 8)]\n"
          ]
        },
        {
          "output_type": "display_data",
          "data": {
            "text/plain": [
              "<Figure size 640x480 with 1 Axes>"
            ],
            "image/png": "[encoded data removed]"
          },
          "metadata": {}
        },
        {
          "output_type": "stream",
          "name": "stdout",
          "text": [
            "For Uniform Cost Search Algorithm:\n",
            "\n",
            "To recharge press 1: 1\n",
            "Recharged Successfully\n",
            "Solution Path: [(1, 4), (1, 4), (2, 4), (3, 4), (3, 5), (3, 6), (3, 7), (4, 7), (5, 7), (5, 8), (6, 8)]\n"
          ]
        },
        {
          "output_type": "display_data",
          "data": {
            "text/plain": [
              "<Figure size 640x480 with 1 Axes>"
            ],
            "image/png": "[encoded data removed]"
          },
          "metadata": {}
        },
        {
          "output_type": "stream",
          "name": "stdout",
          "text": [
            "no difference\n"
          ]
        }
      ]
    }
  ]
}